{
 "cells": [
  {
   "cell_type": "code",
   "execution_count": 1,
   "metadata": {},
   "outputs": [],
   "source": [
    "#Image Imports\n",
    "import numpy as np\n",
    "import matplotlib.pyplot as plt\n",
    "import IPython.display as display\n",
    "from PIL import Image\n",
    "import os\n",
    "import pathlib\n",
    "import cv2\n",
    "import random\n",
    "random.seed(14)"
   ]
  },
  {
   "cell_type": "code",
   "execution_count": 7,
   "metadata": {},
   "outputs": [],
   "source": [
    "#Training Set Generation\n",
    "DATA_DIR = \"./Image_Set/\"\n",
    "CATEGORIES = [\"cataract_eyes\", \"healthy_eyes\"]\n",
    "#CATEGORIES = [\"balanced_cataracts\", \"balanced_healthy\"]\n",
    "\n",
    "IMG_SIZE = 140\n",
    "\n",
    "training_data = []\n",
    "\n",
    "def create_training_data(training_data, IMG_SIZE = 128):\n",
    "    for category in CATEGORIES:\n",
    "        path = os.path.join(DATA_DIR, category) #path to image directory\n",
    "        class_num = CATEGORIES.index(category)\n",
    "        for img in os.listdir(path):\n",
    "            try:\n",
    "                img_array = cv2.imread(os.path.join(path, img), cv2.IMREAD_COLOR)\n",
    "                IMG_SIZE = 140\n",
    "                new_array = cv2.resize(img_array, (IMG_SIZE, IMG_SIZE))\n",
    "                training_data.append([new_array, class_num])\n",
    "            except Exception as e:\n",
    "                pass\n",
    "    return training_data\n",
    "\n",
    "training_data = create_training_data(training_data)\n",
    "\n",
    "random.shuffle(training_data)\n",
    "\n",
    "X = []\n",
    "y = []\n",
    "for features, label in training_data:\n",
    "    X.append(features)\n",
    "    y.append(label)\n",
    "    \n",
    "X = np.array(X).reshape(-1, IMG_SIZE, IMG_SIZE, 3)\n",
    "y = np.array(y)"
   ]
  },
  {
   "cell_type": "code",
   "execution_count": 8,
   "metadata": {},
   "outputs": [],
   "source": [
    "#Model Imports\n",
    "import tensorflow as tf\n",
    "from tensorflow.keras.models import Sequential\n",
    "from tensorflow.keras.layers import Dense, Dropout, Activation, Flatten, Conv2D, MaxPooling2D\n",
    "from tensorflow.keras.callbacks import TensorBoard"
   ]
  },
  {
   "cell_type": "code",
   "execution_count": 9,
   "metadata": {},
   "outputs": [
    {
     "name": "stdout",
     "output_type": "stream",
     "text": [
      "Train on 48 samples, validate on 12 samples\n",
      "Epoch 1/5\n",
      "48/48 [==============================] - 2s 46ms/sample - loss: 0.8378 - accuracy: 0.4167 - val_loss: 0.7668 - val_accuracy: 0.3333\n",
      "Epoch 2/5\n",
      "48/48 [==============================] - 1s 26ms/sample - loss: 0.5799 - accuracy: 0.7083 - val_loss: 0.8302 - val_accuracy: 0.6667\n",
      "Epoch 3/5\n",
      "48/48 [==============================] - 1s 27ms/sample - loss: 0.6389 - accuracy: 0.7083 - val_loss: 0.6116 - val_accuracy: 0.9167\n",
      "Epoch 4/5\n",
      "48/48 [==============================] - 1s 27ms/sample - loss: 0.4424 - accuracy: 0.8125 - val_loss: 0.6547 - val_accuracy: 0.7500\n",
      "Epoch 5/5\n",
      "48/48 [==============================] - 1s 25ms/sample - loss: 0.3620 - accuracy: 0.8750 - val_loss: 0.7499 - val_accuracy: 0.8333\n"
     ]
    },
    {
     "data": {
      "text/plain": [
       "<tensorflow.python.keras.callbacks.History at 0x26ed177c048>"
      ]
     },
     "execution_count": 9,
     "metadata": {},
     "output_type": "execute_result"
    }
   ],
   "source": [
    "#create a model\n",
    "NAME = \"5 Layer Cataract v Healthy Eye CNN\"\n",
    "\n",
    "X = X/255.0\n",
    "\n",
    "model = Sequential()\n",
    "\n",
    "model.add(Conv2D(64, (3,3), input_shape=X.shape[1:]))\n",
    "model.add(Activation(\"relu\"))\n",
    "model.add(MaxPooling2D(pool_size=(2,2)))\n",
    "\n",
    "model.add(Conv2D(64, (3,3)))\n",
    "model.add(Activation(\"relu\"))\n",
    "model.add(MaxPooling2D(pool_size=(2,2)))\n",
    "\n",
    "model.add(Conv2D(64, (3,3)))\n",
    "model.add(Activation(\"relu\"))\n",
    "model.add(MaxPooling2D(pool_size=(2,2)))\n",
    "\n",
    "model.add(Flatten())\n",
    "model.add(Dense(64))\n",
    "\n",
    "model.add(Dense(1))\n",
    "model.add(Activation(\"sigmoid\"))\n",
    "\n",
    "model.compile(loss=\"binary_crossentropy\",\n",
    "             optimizer=\"Adam\",\n",
    "             metrics=['accuracy'])\n",
    "model.fit(X, y, batch_size=2, epochs = 5, validation_split = 0.2)\n"
   ]
  }
 ],
 "metadata": {
  "kernelspec": {
   "display_name": "Python 3",
   "language": "python",
   "name": "python3"
  },
  "language_info": {
   "codemirror_mode": {
    "name": "ipython",
    "version": 3
   },
   "file_extension": ".py",
   "mimetype": "text/x-python",
   "name": "python",
   "nbconvert_exporter": "python",
   "pygments_lexer": "ipython3",
   "version": "3.7.0"
  }
 },
 "nbformat": 4,
 "nbformat_minor": 2
}
